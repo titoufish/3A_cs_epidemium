{
 "cells": [
  {
   "cell_type": "code",
   "execution_count": null,
   "metadata": {},
   "outputs": [],
   "source": [
    "import pandas as pd, numpy as np\n",
    "from IPython.display import display\n",
    "from IPython.display import Image\n",
    "import math"
   ]
  },
  {
   "cell_type": "markdown",
   "metadata": {},
   "source": [
    "# Sélection des données"
   ]
  },
  {
   "cell_type": "code",
   "execution_count": null,
   "metadata": {},
   "outputs": [],
   "source": [
    "df = pd.read_csv('ALL_VAR_30_POP.csv')\n",
    "df.info()"
   ]
  },
  {
   "cell_type": "code",
   "execution_count": null,
   "metadata": {},
   "outputs": [],
   "source": [
    "df.head()"
   ]
  },
  {
   "cell_type": "code",
   "execution_count": null,
   "metadata": {},
   "outputs": [],
   "source": [
    "#sélection des pays en voie de développement\n",
    "countries_df = pd.read_csv('developping_countries.csv')\n",
    "countries=countries_df['area']\n",
    "df=df[df.area.isin(countries)]"
   ]
  },
  {
   "cell_type": "code",
   "execution_count": null,
   "metadata": {},
   "outputs": [],
   "source": [
    "#sélection du type de cancer\n",
    "df=df[df.type == 'C16']\n",
    "df=df.drop('type', axis=1)"
   ]
  },
  {
   "cell_type": "code",
   "execution_count": null,
   "metadata": {},
   "outputs": [],
   "source": [
    "df.info()"
   ]
  },
  {
   "cell_type": "markdown",
   "metadata": {},
   "source": [
    "# Choix du modèle"
   ]
  },
  {
   "cell_type": "code",
   "execution_count": null,
   "metadata": {},
   "outputs": [],
   "source": [
    "model=\"knn\""
   ]
  },
  {
   "cell_type": "markdown",
   "metadata": {},
   "source": [
    "# Split des données"
   ]
  },
  {
   "cell_type": "code",
   "execution_count": null,
   "metadata": {},
   "outputs": [],
   "source": [
    "import sklearn\n",
    "import sklearn.cross_validation\n",
    "from sklearn.model_selection import cross_val_score\n",
    "from sklearn.preprocessing import StandardScaler"
   ]
  },
  {
   "cell_type": "code",
   "execution_count": null,
   "metadata": {},
   "outputs": [],
   "source": [
    "#variable à prédire : mortalité relative\n",
    "X=df.drop('relative_mortality', axis=1)\n",
    "Y=df.relative_mortality"
   ]
  },
  {
   "cell_type": "code",
   "execution_count": null,
   "metadata": {},
   "outputs": [],
   "source": [
    "#standardisation des variables d'entrée pour les modèles linéaires\n",
    "if model in [\"linear_regression\", \"ridge_regression\", \"lasso_regression\"]:\n",
    "    labels = X.columns\n",
    "    scaler = StandardScaler()\n",
    "    X = scaler.fit_transform(X)\n",
    "    X = pd.DataFrame(scaler.fit_transform(X), columns=labels)"
   ]
  },
  {
   "cell_type": "code",
   "execution_count": null,
   "metadata": {},
   "outputs": [],
   "source": [
    "#split\n",
    "X_train, X_test, Y_train, Y_test = sklearn.cross_validation.train_test_split(X, Y, test_size=0.33, random_state = 5)\n",
    "print(\"Dimensions :\")\n",
    "print(\"X_train : {}\".format(X_train.shape))\n",
    "print(\"X_test : {}\".format(X_test.shape))\n",
    "print(\"Y_train : {}\".format(Y_train.shape))\n",
    "print(\"Y_test : {}\".format(Y_test.shape))"
   ]
  },
  {
   "cell_type": "code",
   "execution_count": null,
   "metadata": {},
   "outputs": [],
   "source": [
    "#variables population totale, année et pays mises de coté\n",
    "X_results=X_test['area', 'year', 'TOTAL_POP']\n",
    "\n",
    "X_test=X_test.drop('TOTAL_POP', axis=1)\n",
    "X_train=X_train.drop('TOTAL_POP', axis=1)\n",
    "\n",
    "X_test=X_test.drop('area', axis=1)\n",
    "X_train=X_test.drop('area', axis=1)\n",
    "\n",
    "X_test=X_test.drop('year', axis=1)\n",
    "X_train=X_test.drop('year', axis=1)"
   ]
  },
  {
   "cell_type": "markdown",
   "metadata": {},
   "source": [
    "# Validation croisée pour déterminer les hyperparamètres"
   ]
  },
  {
   "cell_type": "code",
   "execution_count": null,
   "metadata": {},
   "outputs": [],
   "source": [
    "import matplotlib.pyplot as plt\n",
    "import csv\n",
    "\n",
    "from sklearn.linear_model import LinearRegression\n",
    "from sklearn import linear_model\n",
    "\n",
    "from sklearn.neighbors import KNeighborsRegressor\n",
    "\n",
    "from sklearn import tree"
   ]
  },
  {
   "cell_type": "markdown",
   "metadata": {},
   "source": [
    "## Régression linéaire"
   ]
  },
  {
   "cell_type": "code",
   "execution_count": null,
   "metadata": {},
   "outputs": [],
   "source": [
    "if model==\"linear_regression\":\n",
    "    #pas d'hyperparamètre à déterminer\n",
    "\n",
    "    #apprentissage du modèle\n",
    "    model = linear_model.LinearRegression()\n",
    "    model.fit(X_train, Y_train)\n",
    "    print(\"Coefs : {}\".format(list(zip(X_train.columns.values, model.coef_))))"
   ]
  },
  {
   "cell_type": "markdown",
   "metadata": {},
   "source": [
    "## Régression linéaire ridge"
   ]
  },
  {
   "cell_type": "code",
   "execution_count": null,
   "metadata": {},
   "outputs": [],
   "source": [
    "if model==\"ridge_regression\":\n",
    "    \n",
    "    alphas = []\n",
    "    train_scores = []\n",
    "    scores = []\n",
    "    intercepts = []\n",
    "\n",
    "    for i in range(10):\n",
    "        alpha = 0.01*(i)\n",
    "        alphas.append(alpha)\n",
    "        reg = linear_model.Ridge(alpha = alpha)\n",
    "        reg.fit(x_train, y_train)\n",
    "        train_scores.append(reg.score(x_train, y_train))\n",
    "        print(\"Score with Ridge with train, alpha = {} : {}\".format(alpha, reg.score(x_train, y_train)))\n",
    "        print(\"Score with Ridge, alpha = {} : {}\".format(alpha, reg.score(x_test, y_test)))\n",
    "        scores.append(reg.score(x_test, y_test))\n",
    "        #print(\"Intercept : {}\".format(reg.intercept_))\n",
    "        intercepts.append(reg.intercept_)\n",
    "        #print(\"Coefs : {}\".format(list(zip(x_train.columns.values, reg.coef_))))\n",
    "\n",
    "    for i in range(5):\n",
    "        alpha = 0.1*(2*i)\n",
    "        alphas.append(alpha)\n",
    "        reg = linear_model.Ridge(alpha = alpha)\n",
    "        reg.fit(x_train, y_train)\n",
    "        train_scores.append(reg.score(x_train, y_train))\n",
    "        print(\"Score with Ridge with train, alpha = {} : {}\".format(alpha, reg.score(x_train, y_train)))\n",
    "        print(\"Score with Ridge, alpha = {} : {}\".format(alpha, reg.score(x_test, y_test)))\n",
    "        scores.append(reg.score(x_test, y_test))\n",
    "        #print(\"Intercept : {}\".format(reg.intercept_))\n",
    "        intercepts.append(reg.intercept_)\n",
    "        #print(\"Coefs : {}\".format(list(zip(x_train.columns.values, reg.coef_))))\n",
    "\n",
    "    for i in range(10):\n",
    "        alpha = (2*i+1)\n",
    "        alphas.append(alpha)\n",
    "        reg = linear_model.Ridge(alpha = alpha)\n",
    "        reg.fit(x_train, y_train)\n",
    "        train_scores.append(reg.score(x_train, y_train))\n",
    "        print(\"Score with Ridge with train, alpha = {} : {}\".format(alpha, reg.score(x_train, y_train)))\n",
    "        print(\"Score with Ridge, alpha = {} : {}\".format(alpha, reg.score(x_test, y_test)))\n",
    "        scores.append(reg.score(x_test, y_test))\n",
    "        #print(\"Intercept : {}\".format(reg.intercept_))\n",
    "        intercepts.append(reg.intercept_)\n",
    "        #print(\"Coefs : {}\".format(list(zip(x_train.columns.values, reg.coef_))))\n",
    "\n",
    "    with open('ridge.csv', 'wt') as ridge_csv:\n",
    "        writer = csv.writer(ridge_csv, delimiter = ';')\n",
    "        writer.writerow(alphas)\n",
    "        writer.writerow(train_scores)\n",
    "        writer.writerow(scores)\n",
    "        writer.writerow(intercepts)\n",
    "    \n",
    "    #apprentissage du modèle#############utiliser le bon alpha\n",
    "    model = linear_model.Ridge()\n",
    "    model.fit(X_train, Y_train)"
   ]
  },
  {
   "cell_type": "markdown",
   "metadata": {},
   "source": [
    "## Régression linéaire lasso"
   ]
  },
  {
   "cell_type": "code",
   "execution_count": null,
   "metadata": {},
   "outputs": [],
   "source": [
    "if model==\"lasso_regression\"\n",
    "\n",
    "    alphas = []\n",
    "    train_scores = []\n",
    "    scores = []\n",
    "    intercepts = []\n",
    "    non_zero_number = []\n",
    "    non_zero_values = []\n",
    "    non_zero_coefs = []\n",
    "\n",
    "    for i in range(10):\n",
    "        alpha = 0.001*(i+1)\n",
    "        alphas.append(alpha)\n",
    "\n",
    "        reg = linear_model.Lasso(alpha = alpha)\n",
    "        reg.fit(x_train, y_train)\n",
    "        train_scores.append(reg.score(x_train, y_train))\n",
    "        print(\"Score with Lasso with train, alpha = {} : {}\".format(alpha, reg.score(x_train, y_train)))\n",
    "        print(\"Score with Lasso, alpha = {} : {}\".format(alpha, reg.score(x_test, y_test)))\n",
    "        scores.append(reg.score(x_test, y_test))\n",
    "        #print(\"Intercept : {}\".format(reg.intercept_))\n",
    "        intercepts.append(reg.intercept_)\n",
    "        #print(\"Coefs : {}\".format(list(zip(x_train.columns.values, reg.coef_))))\n",
    "        count = 0\n",
    "        non_zero_list = []\n",
    "        non_zero_coefs_list = []\n",
    "        for i, val in enumerate(reg.coef_):\n",
    "            if val !=0:\n",
    "                #print(\"Non-Zero Coef {} for alpha = {} : {}\".format(x_train.columns.values[i], alpha, reg.coef_[i]))\n",
    "                count+=1\n",
    "                non_zero_list.append(x_train.columns.values[i])\n",
    "                non_zero_coefs_list.append(str(reg.coef_[i]))\n",
    "        non_zero_number.append(count)\n",
    "        non_zero_coefs.append(non_zero_coefs_list)\n",
    "        non_zero_values.append(non_zero_list)\n",
    "        #print(\"Number of non-zero coefficients with Lasso, alpha = {} : {}\".format(alpha, count))\n",
    "\n",
    "\n",
    "    for i in range(10):\n",
    "        alpha = 0.01*(i+1)\n",
    "        alphas.append(alpha)\n",
    "\n",
    "        reg = linear_model.Lasso(alpha = alpha)\n",
    "        reg.fit(x_train, y_train)\n",
    "        train_scores.append(reg.score(x_train, y_train))\n",
    "        print(\"Score with Lasso with train, alpha = {} : {}\".format(alpha, reg.score(x_train, y_train)))\n",
    "        print(\"Score with Lasso, alpha = {} : {}\".format(alpha, reg.score(x_test, y_test)))\n",
    "        scores.append(reg.score(x_test, y_test))\n",
    "        #print(\"Intercept : {}\".format(reg.intercept_))\n",
    "        intercepts.append(reg.intercept_)\n",
    "        #print(\"Coefs : {}\".format(list(zip(x_train.columns.values, reg.coef_))))\n",
    "        count = 0\n",
    "        non_zero_list = []\n",
    "        non_zero_coefs_list = []\n",
    "        for i, val in enumerate(reg.coef_):\n",
    "            if val !=0:\n",
    "                #print(\"Non-Zero Coef {} for alpha = {} : {}\".format(x_train.columns.values[i], alpha, reg.coef_[i]))\n",
    "                count+=1\n",
    "                non_zero_list.append(x_train.columns.values[i])\n",
    "                non_zero_coefs_list.append(str(reg.coef_[i]))\n",
    "        non_zero_number.append(count)\n",
    "        non_zero_coefs.append(non_zero_coefs_list)\n",
    "        non_zero_values.append(non_zero_list)\n",
    "        #print(\"Number of non-zero coefficients with Lasso, alpha = {} : {}\".format(alpha, count))\n",
    "\n",
    "    for i, alpha in enumerate(alphas):\n",
    "        decimal_split = '.'.split(str(alpha))\n",
    "        ext = ''\n",
    "        if len(decimal_split)>1:\n",
    "            ext = decimal_split[1]\n",
    "        else:\n",
    "            ext = str(alpha)\n",
    "        with open('./lasso/lasso_{}.csv'.format(ext), 'wt') as file:\n",
    "            csvwrite = csv.writer(file, delimiter = ';')\n",
    "            for j in range(non_zero_number[i]):\n",
    "                csvwrite.writerow([non_zero_values[i][j], non_zero_coefs[i][j]])\n",
    "\n",
    "    with open('lasso.csv', 'wt') as lasso_csv:\n",
    "        writer = csv.writer(lasso_csv, delimiter = ';')\n",
    "        writer.writerow(alphas)\n",
    "        writer.writerow(train_scores)\n",
    "        writer.writerow(scores)\n",
    "        writer.writerow(intercepts)\n",
    "        writer.writerow(non_zero_number)\n",
    "    \n",
    "    #apprentissage du modèle######################utiliser le bon alpha\n",
    "    model = linear_model.Lasso()\n",
    "    model.fit(X_train, Y_train)"
   ]
  },
  {
   "cell_type": "markdown",
   "metadata": {},
   "source": [
    "## K plus proches voisins"
   ]
  },
  {
   "cell_type": "code",
   "execution_count": null,
   "metadata": {},
   "outputs": [],
   "source": [
    "if model==\"knn\":\n",
    "    \n",
    "    #hyperparamètre : nombre k de plus proches voisins\n",
    "    for k in range(1, 10):\n",
    "    print(\"{} voisins\".format(k))\n",
    "    neigh = KNeighborsRegressor(n_neighbors=k)\n",
    "    scores = cross_val_score(neigh, X_train, Y_train, cv=5)\n",
    "    print(\"Uniform weights : accuracy: %0.2f (+/- %0.2f)\" % (scores.mean(), scores.std() * 2))\n",
    "    neigh = KNeighborsRegressor(n_neighbors=k, weights='distance')\n",
    "    scores = cross_val_score(neigh, X_train, Y_train, cv=5)\n",
    "    print(\"Distance weights : accuracy: %0.2f (+/- %0.2f)\" % (scores.mean(), scores.std() * 2))\n",
    "    \n",
    "    #apprentissage du modèle\n",
    "    model = KNeighborsRegressor(n_neighbors=3, weights='distance')\n",
    "    model.fit(X_train, Y_train)"
   ]
  },
  {
   "cell_type": "markdown",
   "metadata": {},
   "source": [
    "## Arbres de décision"
   ]
  },
  {
   "cell_type": "code",
   "execution_count": null,
   "metadata": {},
   "outputs": [],
   "source": [
    "if model==\"decision_tree\":\n",
    "    model=tree.DecisionTreeRegressor()\n",
    "    model.fit(X_train, Y_train)\n",
    "    \n",
    "    score = model.score(X_test, Y_test)\n",
    "    print(score)\n",
    "    \n",
    "    for i in range(len(tr.feature_importances_)):\n",
    "        print(\"{}\".format(str(list(X.columns.values)[i])))\n",
    "        print(\"{}\".format(str(tr.feature_importances_[i])))"
   ]
  },
  {
   "cell_type": "markdown",
   "metadata": {},
   "source": [
    "## Random forest"
   ]
  },
  {
   "cell_type": "markdown",
   "metadata": {},
   "source": [
    "# Evaluation du modèle"
   ]
  },
  {
   "cell_type": "code",
   "execution_count": null,
   "metadata": {},
   "outputs": [],
   "source": [
    "#coefficient de détermination\n",
    "model.score(X_test, Y_test)"
   ]
  },
  {
   "cell_type": "code",
   "execution_count": null,
   "metadata": {},
   "outputs": [],
   "source": [
    "#prédiction de la mortalité en volume à partir de la mortalité relative prédite par le modèle\n",
    "Y_predicted=model.predict(X_test)\n",
    "X_results['predicted_relative_mortality'] = Y_predicted\n",
    "X_results['relative_mortality']=Y_test\n",
    "X_results['predicted_mortality']=X_results['predicted_relative_mortality']*X_results['TOT_POP']\n",
    "X_results['predicted_mortality']=X_results['predicted_mortality'].round()\n",
    "X_results['mortality']=X_results['relative_mortality']*X_results['TOT_POP']"
   ]
  },
  {
   "cell_type": "code",
   "execution_count": null,
   "metadata": {},
   "outputs": [],
   "source": [
    "#Mean Square Error\n",
    "mse_test = np.mean((X_results['mortality'] - X_results['predicted_mortality']) **2)\n",
    "mse_test"
   ]
  },
  {
   "cell_type": "code",
   "execution_count": null,
   "metadata": {},
   "outputs": [],
   "source": [
    "#Root Mean Square Error\n",
    "rmse_test=math.sqrt(mse_test)\n",
    "rmse_test"
   ]
  },
  {
   "cell_type": "code",
   "execution_count": null,
   "metadata": {},
   "outputs": [],
   "source": [
    "#Mean Average Error\n",
    "mae_test=np.mean(abs(X_test['mortality'] - X_test['predicted_mortaltity']))\n",
    "mae_test"
   ]
  },
  {
   "cell_type": "code",
   "execution_count": null,
   "metadata": {},
   "outputs": [],
   "source": [
    "#Relative Mean Average Error\n",
    "mean_mortality_test=np.mean(X_test['mortality'])\n",
    "rel_mae=mae_test/mean_mortality_test\n",
    "rel_mae"
   ]
  },
  {
   "cell_type": "markdown",
   "metadata": {},
   "source": [
    "developping countries\n",
    "standard scaling sur variables d'entrée uniquement ?\n",
    "cross val sur ridge, lasso, arbres de décision\n",
    "script spécial PCA ?"
   ]
  }
 ],
 "metadata": {
  "kernelspec": {
   "display_name": "Python 3",
   "language": "python",
   "name": "python3"
  },
  "language_info": {
   "codemirror_mode": {
    "name": "ipython",
    "version": 3
   },
   "file_extension": ".py",
   "mimetype": "text/x-python",
   "name": "python",
   "nbconvert_exporter": "python",
   "pygments_lexer": "ipython3",
   "version": "3.6.3"
  }
 },
 "nbformat": 4,
 "nbformat_minor": 2
}
