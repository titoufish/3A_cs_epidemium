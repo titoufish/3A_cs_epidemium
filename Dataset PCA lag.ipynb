{
 "cells": [
  {
   "cell_type": "code",
   "execution_count": 16,
   "metadata": {},
   "outputs": [],
   "source": [
    "import pandas as pd\n",
    "import os\n",
    "from PCA import transform_pca"
   ]
  },
  {
   "cell_type": "code",
   "execution_count": 153,
   "metadata": {},
   "outputs": [],
   "source": [
    "PATH = 'C:/Users/titou/Desktop/Centrale/Option OSY/Projet/Datasets'\n",
    "mortality = pd.read_csv(os.path.join(PATH,\"mortality_clean_aggregate.csv\"))\n",
    "wb = pd.read_csv(os.path.join(PATH,\"WB_PCA.csv\"))\n",
    "fao = pd.read_csv(os.path.join(PATH,\"FAO_PCA.csv\"))"
   ]
  },
  {
   "cell_type": "markdown",
   "metadata": {},
   "source": [
    "Adding temporal lag to wb and fao"
   ]
  },
  {
   "cell_type": "code",
   "execution_count": 154,
   "metadata": {},
   "outputs": [],
   "source": [
    "lag = 5"
   ]
  },
  {
   "cell_type": "code",
   "execution_count": 155,
   "metadata": {},
   "outputs": [],
   "source": [
    "wb['year'] = wb['year'] + lag\n",
    "fao['year'] = fao['year'] + lag"
   ]
  },
  {
   "cell_type": "markdown",
   "metadata": {},
   "source": [
    "Merging"
   ]
  },
  {
   "cell_type": "code",
   "execution_count": 156,
   "metadata": {},
   "outputs": [],
   "source": [
    "data_output = pd.merge(mortality, wb, how = 'inner', on = ['area', 'year'])\n",
    "data_output = pd.merge(data_output, fao, how = 'inner', on = ['area', 'year'])"
   ]
  },
  {
   "cell_type": "markdown",
   "metadata": {},
   "source": [
    "Normalization of mortality"
   ]
  },
  {
   "cell_type": "code",
   "execution_count": 157,
   "metadata": {},
   "outputs": [],
   "source": [
    "data_output['sum'] = data_output['sum']/data_output['SP.POP.TOTL']\n",
    "pop = data_output['SP.POP.TOTL']\n",
    "data_output = data_output.drop(columns = ['SP.POP.TOTL'])"
   ]
  },
  {
   "cell_type": "markdown",
   "metadata": {},
   "source": [
    "Second PCA"
   ]
  },
  {
   "cell_type": "code",
   "execution_count": 158,
   "metadata": {},
   "outputs": [
    {
     "data": {
      "image/png": "[encoded data removed]",
      "text/plain": [
       "<matplotlib.figure.Figure at 0x14e88170550>"
      ]
     },
     "metadata": {},
     "output_type": "display_data"
    },
    {
     "name": "stdout",
     "output_type": "stream",
     "text": [
      "Number of components to keep to retain 90.0% of the variance: 172 out of the original 451\n",
      "<class 'numpy.ndarray'>\n"
     ]
    }
   ],
   "source": [
    "type = data_output['type']\n",
    "area = data_output['area']\n",
    "year = data_output['year']\n",
    "mort = data_output['sum']\n",
    "data_output = data_output.drop(columns = ['type', 'area', 'year', 'sum'])\n",
    "data_output = transform_pca(data_output)\n",
    "data_output.insert(0, 'SP.POP.TOTL', pop)\n",
    "data_output.insert(0, 'sum', mort)\n",
    "data_output.insert(0, 'year', year)\n",
    "data_output.insert(0, 'area', area)\n",
    "data_output.insert(0, 'type', type)"
   ]
  },
  {
   "cell_type": "code",
   "execution_count": 159,
   "metadata": {},
   "outputs": [],
   "source": [
    "data_output.to_csv(os.path.join(PATH,\"ALL_PCA2_lag\" + str(lag) + \".csv\"), index = False)"
   ]
  },
  {
   "cell_type": "code",
   "execution_count": null,
   "metadata": {},
   "outputs": [],
   "source": []
  }
 ],
 "metadata": {
  "kernelspec": {
   "display_name": "Python 3",
   "language": "python",
   "name": "python3"
  },
  "language_info": {
   "codemirror_mode": {
    "name": "ipython",
    "version": 3
   },
   "file_extension": ".py",
   "mimetype": "text/x-python",
   "name": "python",
   "nbconvert_exporter": "python",
   "pygments_lexer": "ipython3",
   "version": "3.6.4"
  }
 },
 "nbformat": 4,
 "nbformat_minor": 2
}
